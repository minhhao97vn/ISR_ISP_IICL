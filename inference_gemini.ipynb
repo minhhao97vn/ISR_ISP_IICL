{
 "cells": [
  {
   "cell_type": "code",
   "execution_count": null,
   "id": "c16770d6",
   "metadata": {
    "scrolled": true
   },
   "outputs": [],
   "source": [
    "import torch\n",
    "import torch.nn as nn\n",
    "import torch.nn.functional as F\n",
    "from torch.utils.data import Dataset, DataLoader\n",
    "import torchvision.transforms as transforms\n",
    "import torch.optim as optim\n",
    "from tqdm import tqdm\n",
    "import copy\n",
    "from influence_functions import calc_influence_single_group_upweight, calc_influence_single_group_pert\n",
    "from utils import set_attr\n",
    "from argparse import Namespace\n",
    "import math\n",
    "\n",
    "import h5py\n",
    "import matplotlib.pyplot as plt\n",
    "import numpy as np\n",
    "from PIL import Image\n",
    "import os\n",
    "from scipy.stats import rice\n",
    "import pickle\n",
    "\n",
    "seed = 8\n",
    "\n",
    "noise = 'rician'\n"
   ]
  },
  {
   "cell_type": "code",
   "execution_count": null,
   "id": "e9d3ce45",
   "metadata": {},
   "outputs": [],
   "source": [
    "import pathlib\n",
    "import textwrap\n",
    "\n",
    "import numpy as np\n",
    "import pickle\n",
    "\n",
    "from IPython.display import display\n",
    "from IPython.display import Markdown\n",
    "import torch\n",
    "import torch.nn.functional as F\n",
    "import time\n",
    "\n",
    "from sklearn.metrics import roc_auc_score\n",
    "import re\n",
    "\n",
    "def to_markdown(text):\n",
    "    text = text.replace('•', '  *')\n",
    "    return Markdown(textwrap.indent(text, '> ', predicate=lambda _: True))\n",
    "\n",
    "import google.generativeai as genai"
   ]
  },
  {
   "cell_type": "code",
   "execution_count": null,
   "id": "28b94709",
   "metadata": {},
   "outputs": [],
   "source": [
    "with open(f\"data_for_llm/{noise}/seed_{seed}/train_data_seed_{seed}.pkl\", \"rb\") as file:\n",
    "    train_data = pickle.load(file)\n",
    "    \n",
    "labels_train = train_data['labels_train']"
   ]
  },
  {
   "cell_type": "code",
   "execution_count": null,
   "id": "992e807e",
   "metadata": {},
   "outputs": [],
   "source": [
    "demonstration_indices_dict = {8: [1663, 1731, 2073, 2112, 1806, 1965], \n",
    "                              1686: [617, 618, 1815, 400, 1360, 217],\n",
    "                             1711: [1713, 3, 1309, 1306, 151, 1925],\n",
    "                             111: [96, 32, 441, 1707, 716, 1409]}\n",
    "\n",
    "demonstration_indices = demonstration_indices_dict[seed]"
   ]
  },
  {
   "cell_type": "code",
   "execution_count": null,
   "id": "e5de35b5",
   "metadata": {},
   "outputs": [],
   "source": [
    "from PIL import Image\n",
    "import requests\n",
    "\n",
    "noisy_image_train_dir = f\"/home/haovan/IF_medical_image/data_for_llm/{noise}/seed_{seed}/train_images/original/\"\n",
    "\n",
    "demonstration_images = []\n",
    "demonstration_base64 = []\n",
    "for idx in range(len(demonstration_indices)):\n",
    "    image = Image.open(noisy_image_train_dir + f\"{demonstration_indices[idx]}_{labels_train[demonstration_indices[idx]]}.jpg\")\n",
    "    demonstration_images.append(image)\n"
   ]
  },
  {
   "cell_type": "code",
   "execution_count": null,
   "id": "99072c94",
   "metadata": {
    "scrolled": true
   },
   "outputs": [],
   "source": [
    "if len(demonstration_images) > 0:\n",
    "    demonstration_images[0]"
   ]
  },
  {
   "cell_type": "code",
   "execution_count": null,
   "id": "f1a98ab5",
   "metadata": {},
   "outputs": [],
   "source": [
    "genai.configure(api_key='<your-api-key-here>')\n",
    "\n",
    "for m in genai.list_models():\n",
    "    if 'generateContent' in m.supported_generation_methods:\n",
    "        print(m.name)"
   ]
  },
  {
   "cell_type": "code",
   "execution_count": null,
   "id": "49af5464",
   "metadata": {},
   "outputs": [],
   "source": [
    "safety_settings = [{\"category\": \"HARM_CATEGORY_SEXUALLY_EXPLICIT\", \"threshold\": \"BLOCK_NONE\"},\n",
    "                   {\"category\": \"HARM_CATEGORY_HATE_SPEECH\", \"threshold\": \"BLOCK_NONE\"}, \n",
    "                   {\"category\": \"HARM_CATEGORY_HARASSMENT\", \"threshold\": \"BLOCK_NONE\"},\n",
    "                   {\"category\": \"HARM_CATEGORY_DANGEROUS_CONTENT\", \"threshold\": \"BLOCK_NONE\"}]"
   ]
  },
  {
   "cell_type": "code",
   "execution_count": null,
   "id": "029a012d",
   "metadata": {},
   "outputs": [],
   "source": [
    "model = genai.GenerativeModel('models/gemini-1.5-flash-latest', safety_settings = safety_settings)"
   ]
  },
  {
   "cell_type": "code",
   "execution_count": null,
   "id": "b3273b68",
   "metadata": {},
   "outputs": [],
   "source": [
    "actuals = []\n",
    "answers = []\n",
    "answers_dict = {}"
   ]
  },
  {
   "cell_type": "markdown",
   "id": "550cbc96",
   "metadata": {},
   "source": [
    "### Zero-shot"
   ]
  },
  {
   "cell_type": "code",
   "execution_count": null,
   "id": "c4ee04f6",
   "metadata": {},
   "outputs": [],
   "source": [
    "import re\n",
    "import json\n",
    "\n",
    "\n",
    "if len(demonstration_indices) == 0:\n",
    "    image_folder = f\"/home/haovan/IF_medical_image/data_for_llm/{noise}/seed_{seed}/test_images/original/\"\n",
    "\n",
    "    prompt = [\n",
    "        \"Predict the tumor type for a given brain MRI. The potential tumor types are 'meningioma', 'glioma', or 'pituitary'. Analyze the provided test MRI to determine the most likely diagnosis among the three tumor types.\\n\\nProvide the answer in the following JSON format:\\n\\n```json\\n{\\n  \\\"tumor_type\\\": \\\"<meningioma/glioma/pituitary>\\\"\\n}\\n```\\n\\nTest image:\"]\n",
    "    \n",
    "    all_images = os.listdir(image_folder)\n",
    "    for idx, image_file in enumerate(all_images[len(answers):]):\n",
    "        print(f\"Processing {image_file}, {idx+1}/{len(all_images)}\")\n",
    "        test_image = Image.open(image_folder+image_file)\n",
    "        actuals.append(int(image_file.split(\"_\")[-1][0]))\n",
    "        final_prompt = prompt + [test_image]\n",
    "       \n",
    "        response = model.generate_content(final_prompt, request_options={\"timeout\": 1000})\n",
    "        res = response.text\n",
    "\n",
    "        ans = re.search(r\"```json(.*?)```\", res.replace(\"\\n\", \"\"))\n",
    "        if ans is not None:\n",
    "            parsed_ans = json.loads(ans.group(1))\n",
    "        else:\n",
    "            parsed_ans = json.loads('{\"tumor_type\": \"No Answer Received\"}')\n",
    "            print(f\"Response: {res}\")\n",
    "        print(parsed_ans)\n",
    "        answers.append(parsed_ans)\n",
    "        time.sleep(4)"
   ]
  },
  {
   "cell_type": "markdown",
   "id": "504e133e",
   "metadata": {},
   "source": [
    "### Few-shot"
   ]
  },
  {
   "cell_type": "code",
   "execution_count": null,
   "id": "6b57de2b",
   "metadata": {
    "scrolled": true
   },
   "outputs": [],
   "source": [
    "import re\n",
    "import json\n",
    "\n",
    "\n",
    "if len(demonstration_indices) == 3:\n",
    "    image_folder = f\"/home/haovan/IF_medical_image/data_for_llm/{noise}/seed_8/test_images/original/\"\n",
    "\n",
    "    prompt = [\n",
    "        \"Predict the tumor type for a given brain MRI. The potential tumor types are 'meningioma', 'glioma', or 'pituitary'. Analyze the provided test MRI to determine the most likely diagnosis among the three tumor types.\\n\\nProvide the answer in the following JSON format:\\n\\n```json\\n{\\n  \\\"tumor_type\\\": \\\"<meningioma/glioma/pituitary>\\\"\\n}\\n```\",\n",
    "               \"Here are demonstration examples with MRI images and their corresponding tumor types:\\n\\n- Image 1:\", \n",
    "                  demonstration_images[0],\n",
    "                 \"Tumor type: meningioma\\n\\n- Image 2:\", \n",
    "                  demonstration_images[1],\n",
    "                 \"Tumor type: glioma\\n\\n- Image 3:\",\n",
    "                 demonstration_images[2],\n",
    "                 \"Tumor type: pituitary\\n\\nTest image:\"]\n",
    "    \n",
    "    all_images = os.listdir(image_folder)\n",
    "    for idx, image_file in enumerate(all_images[len(answers):]):\n",
    "        print(f\"Processing {image_file}, {idx+1}/{len(all_images)}\")\n",
    "        test_image = Image.open(image_folder+image_file)\n",
    "        actuals.append(int(image_file.split(\"_\")[-1][0]))\n",
    "        final_prompt = prompt + [test_image]\n",
    "       \n",
    "        response = model.generate_content(final_prompt, request_options={\"timeout\": 1000})\n",
    "        res = response.text\n",
    "\n",
    "        ans = re.search(r\"```json(.*?)```\", res.replace(\"\\n\", \"\"))\n",
    "        if ans is not None:\n",
    "            parsed_ans = json.loads(ans.group(1))\n",
    "        else:\n",
    "            parsed_ans = json.loads('{\"tumor_type\": \"No Answer Received\"}')\n",
    "            print(f\"Response: {res}\")\n",
    "        print(parsed_ans)\n",
    "        answers.append(parsed_ans)\n",
    "        time.sleep(4)"
   ]
  },
  {
   "cell_type": "code",
   "execution_count": null,
   "id": "fcbdc112",
   "metadata": {
    "scrolled": true
   },
   "outputs": [],
   "source": [
    "\n",
    "if len(demonstration_indices) == 6:\n",
    "    prompt = [\n",
    "        \"Predict the tumor type for a given brain MRI. The potential tumor types are 'meningioma', 'glioma', or 'pituitary'. You are provided with labeled examples to help with understanding the task, which demonstrates in-context learning through these examples. Analyze the provided test MRI to determine the most likely diagnosis among the three tumor types.\\n\\nProvide the answer in the following JSON format:\\n\\n```json\\n{\\n  \\\"tumor_type\\\": \\\"<meningioma/glioma/pituitary>\\\"\\n}\\n```\",\n",
    "                \"Here are demonstration examples with MRI images and their corresponding tumor types:\\n\\n- Image 1:\", \n",
    "                  demonstration_images[0],\n",
    "                 \"Label: meningioma\\n\\n- Image 2:\", \n",
    "                  demonstration_images[2],\n",
    "                 \"Label: glioma\\n\\n- Image 3:\", \n",
    "                  demonstration_images[4],\n",
    "                 \"Label: pituitary\\n\\n- Image 4:\",\n",
    "                 demonstration_images[1],\n",
    "                 \"Label: meningioma\\n\\n- Image 5:\",\n",
    "                 demonstration_images[3],\n",
    "                 \"Label: glioma\\n\\n- Image 6:\",\n",
    "                 demonstration_images[5],\n",
    "                 \"Label: pituitary\\n\\nTest image:\"]\n",
    "    \n",
    "    image_folder = f\"/home/haovan/IF_medical_image/data_for_llm/{noise}/seed_8/test_images/original/\"\n",
    "    all_images = os.listdir(image_folder)\n",
    "    for idx, image_file in enumerate(all_images[len(answers):]):\n",
    "        print(f\"Processing {image_file}, {idx+1}/{len(all_images)}\")\n",
    "        test_image = Image.open(image_folder+image_file)\n",
    "        actuals.append(int(image_file.split(\"_\")[-1][0]))\n",
    "        final_prompt = prompt + [test_image]\n",
    "       \n",
    "        response = model.generate_content(final_prompt, request_options={\"timeout\": 1000})\n",
    "        res = response.text\n",
    "\n",
    "        ans = re.search(r\"```json(.*?)```\", res.replace(\"\\n\", \"\"))\n",
    "        if ans is not None:\n",
    "            parsed_ans = json.loads(ans.group(1))\n",
    "        else:\n",
    "            parsed_ans = json.loads('{\"tumor_type\": \"No Answer Received\"}')\n",
    "            print(f\"Response: {res}\")\n",
    "        print(parsed_ans)\n",
    "        answers.append(parsed_ans)\n",
    "        answers_dict[image_file] = parsed_ans\n",
    "        time.sleep(5)"
   ]
  },
  {
   "cell_type": "code",
   "execution_count": null,
   "id": "4dcf15c2",
   "metadata": {
    "scrolled": true
   },
   "outputs": [],
   "source": [
    "predictions = []\n",
    "for idx, ans in enumerate(answers):\n",
    "    pred = -1\n",
    "    if \"meningioma\" in ans['tumor_type'].lower():\n",
    "        pred = 0\n",
    "    elif \"glioma\" in ans['tumor_type'].lower():\n",
    "        pred = 1\n",
    "    elif \"pituitary\" in ans['tumor_type'].lower():\n",
    "        pred = 2\n",
    "    if pred == -1:\n",
    "        print(ans)\n",
    "        print(str(idx)+\" --\", os.listdir(image_folder)[idx])\n",
    "    predictions.append(pred)\n",
    "    \n",
    "print(sum(np.array(actuals) == np.array(predictions)))\n",
    "print(sum(np.array(actuals) == np.array(predictions))/len(actuals))"
   ]
  },
  {
   "cell_type": "code",
   "execution_count": null,
   "id": "80eb5e40",
   "metadata": {},
   "outputs": [],
   "source": []
  }
 ],
 "metadata": {
  "kernelspec": {
   "display_name": "Python 3 (ipykernel)",
   "language": "python",
   "name": "python3"
  },
  "language_info": {
   "codemirror_mode": {
    "name": "ipython",
    "version": 3
   },
   "file_extension": ".py",
   "mimetype": "text/x-python",
   "name": "python",
   "nbconvert_exporter": "python",
   "pygments_lexer": "ipython3",
   "version": "3.9.17"
  }
 },
 "nbformat": 4,
 "nbformat_minor": 5
}
